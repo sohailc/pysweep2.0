{
 "cells": [
  {
   "cell_type": "markdown",
   "metadata": {},
   "source": [
    "# Sweep conveniences\n",
    "\n",
    "This notebook describes __how to use__ convenience methods that the __sweep__ framework provides in order to define and perform experiments.\n",
    "\n",
    "In the notebook, we will go through the convenience functions, discuss their use, present some examples. We will also cover how sweep framework integrates with QCoDeS.\n",
    "\n",
    "Note that the internal organization of the framework and description of its core components is a subject of a different notebook."
   ]
  },
  {
   "cell_type": "markdown",
   "metadata": {},
   "source": [
    "# Recap of motivation for sweep\n",
    "\n",
    "It is worth mentioning a short summary of why the sweep framework emerged.\n",
    "\n",
    "Nowadays, code has become a tool for experimentalists. They write lines of code that define experiments, perform measurements, analyze data, etc. With the number and variety of measurements, researchers want to be able to define new experiments and modify existing ones in a swift and fast way.\n",
    "\n",
    "Ease of experiment code modification is limited when one uses frameworks as QCoDeS because of the boilerplate code that the framework requires you to write. Nevertheless, one should not forget that the explicitness of a lower-level framework is key to its flexibility.\n",
    "\n",
    "In this situation, the sweep framework finds its place for experiments that are not complex but frequently performed. The sweep framework balances between hiding as much boilerplate as possible and being flexible enough to justify its existence.\n",
    "\n",
    "Those who are familiar with `Loop` from `QCoDeS` may recall how limiting it was, and how difficult it was to extend it. With the reference to this experience, the sweep framework does __not__ claim that it is as flexible as pure Python code."
   ]
  },
  {
   "cell_type": "markdown",
   "metadata": {},
   "source": [
    "# What is a sweep object?\n",
    "\n",
    "Using the convenience methods of the sweep framework which are described in this notebook, we will be creating sweep objects. But is a sweep object?\n",
    "\n",
    "A sweep object is:\n",
    "* a way to encapsulate flow control and data acquisition\n",
    "* an interable in python language sense\n",
    "* an object that at each iteration returns a dictionary of name-value pairs of data\n",
    "\n",
    "This description of the sweep object __solely__ repesents how users should percieve it when using the convenience functions. This description is not intended to cover \"how it works under the hood\" (as methoned above, this is a subject for a different notebook).\n",
    "\n",
    "In terms of code usage within python, the definition of the sweep object results in the following python-pseudo-code representation:\n",
    "```python\n",
    "sweep_object = <... sweep voltage V \n",
    "                        from 1 to 2 with step 0.2,\n",
    "                    measure at each point\n",
    "                        current I \n",
    "                        and temperature T \n",
    "               ...>\n",
    "\n",
    "for data_point in sweep_object:\n",
    "    print(data_point)\n",
    "    # prints smth like for every data point:\n",
    "    # {'V': 1.4, 'I': 4.23, 'T': 0.3}\n",
    "```\n",
    "\n",
    "The use of the sweep object is very simple, right? Just iterate over it using `for` loop, and consume the data points in any way you want, for example, store them in a file.\n",
    "\n",
    "But how does one define a sweep object in a:\n",
    "* easy way?\n",
    "* readable way?\n",
    "* clean way?\n",
    "* adjustible way?\n",
    "\n",
    "That's what the convenience functions are for."
   ]
  },
  {
   "cell_type": "markdown",
   "metadata": {},
   "source": [
    "# sweep convenience\n",
    "\n",
    "Let's start with the `sweep` function. We are going to build up the understanding of the power of this function step by step."
   ]
  },
  {
   "cell_type": "code",
   "execution_count": 1,
   "metadata": {},
   "outputs": [],
   "source": [
    "from pytopo.sweep import sweep"
   ]
  },
  {
   "cell_type": "markdown",
   "metadata": {},
   "source": [
    "The simplest use case for a sweep when some variable needs to a predefined list of values, for example, one wants to sweep a voltage on an instrument from `a` V to `b` V with the step of `s` V.\n",
    "\n",
    "## setter convenience\n",
    "\n",
    "While sweeping, the voltage will be __set__ to the values specified in the list. This is how we approach the notion of a `setter` function.\n",
    "\n",
    "A `setter` function is a normal python function that has an input argument, does not return anything, and it's intention is to perform logic that is required to set something to a particular value. In the simplest case, this function will just set some attribute of some object. In a more complicated case, it could perform some calculation, wait until an isntrument is ready for the next value to be set, or any other logic that may be required.\n",
    "\n",
    "One can easily make any python function a `setter` with the use of the `setter` decorator. The setter decorator requires arguments. (Can a `setter` function set more than one value? - Yes, but keep reading.) The arguments should be tuples. Each tuple has to contain at least 2 elements: first one represents the name associated with the value that is being set, and the second one represents the units of that value."
   ]
  },
  {
   "cell_type": "code",
   "execution_count": 3,
   "metadata": {},
   "outputs": [],
   "source": [
    "from pytopo.sweep import setter"
   ]
  },
  {
   "cell_type": "markdown",
   "metadata": {},
   "source": [
    "Let's define a dummy instrument as a class with an attribute, and a setter function that sets that attribute to a given value, and prints a message."
   ]
  },
  {
   "cell_type": "code",
   "execution_count": 18,
   "metadata": {},
   "outputs": [],
   "source": [
    "class VoltageSource:\n",
    "    \"\"\"\n",
    "    A dummy voltage source instrument.\n",
    "    \"\"\"\n",
    "    def __init__(self):\n",
    "        self.voltage = 0\n",
    "\n",
    "\n",
    "v_source = VoltageSource()\n",
    "\n",
    "\n",
    "@setter(('gate_voltage', 'V'))\n",
    "def set_voltage(voltage):\n",
    "    v_source.voltage = voltage\n",
    "    print(f\"[set_voltage]: Set voltage source to {voltage}\")"
   ]
  },
  {
   "cell_type": "markdown",
   "metadata": {},
   "source": [
    "Let's try to use the setter function:"
   ]
  },
  {
   "cell_type": "code",
   "execution_count": 19,
   "metadata": {},
   "outputs": [
    {
     "name": "stdout",
     "output_type": "stream",
     "text": [
      "[set_voltage]: Set voltage source to 2.5\n",
      "The voltage source voltage is indeed 2.5 :)\n"
     ]
    }
   ],
   "source": [
    "set_voltage(2.5)\n",
    "\n",
    "# If the setter function does not work, this line will raise an exception\n",
    "assert 2.5 == v_source.voltage\n",
    "print(f'The voltage source voltage is indeed {v_source.voltage} :)')"
   ]
  },
  {
   "cell_type": "markdown",
   "metadata": {},
   "source": [
    "This works, right? Let's get back to the `sweep` then."
   ]
  },
  {
   "cell_type": "markdown",
   "metadata": {},
   "source": [
    "## sweep convenience: basic use\n",
    "\n",
    "Having a `setter` function defined, we can use the `sweep` convenience to call that setter function for a list of values, like this:"
   ]
  },
  {
   "cell_type": "code",
   "execution_count": 20,
   "metadata": {},
   "outputs": [],
   "source": [
    "so = sweep(set_voltage, [1, 2, 3])"
   ]
  },
  {
   "cell_type": "markdown",
   "metadata": {},
   "source": [
    "That's it!\n",
    "\n",
    "This sweep object will iterate over the given list of values (`[1, 2, 3]`), call `set_voltage` with each of these values, and return a dictionary containing the value that has just been set under the key `gate_voltage` as specified in the `setter` decorator for the `set_voltage` function.\n",
    "\n",
    "In order to prove it, let's execute the following code which is a very dumb implementation of \"consumer\" of sweep objects. In this case, this dummy \"consumer\" validates what the sweep object returns, and prints it out. See for yourself:"
   ]
  },
  {
   "cell_type": "code",
   "execution_count": 23,
   "metadata": {},
   "outputs": [
    {
     "name": "stdout",
     "output_type": "stream",
     "text": [
      "started sweeping!\n",
      "[set_voltage]: Set voltage source to 1\n",
      "sweeping... now at data point: {'gate_voltage': 1}\n",
      "[set_voltage]: Set voltage source to 2\n",
      "sweeping... now at data point: {'gate_voltage': 2}\n",
      "[set_voltage]: Set voltage source to 3\n",
      "sweeping... now at data point: {'gate_voltage': 3}\n",
      "done sweeping!\n"
     ]
    }
   ],
   "source": [
    "print('started sweeping!')\n",
    "\n",
    "# \"consume\" the sweep object with a `for` loop\n",
    "for data_point in so:\n",
    "    \n",
    "    # validate what the sweep_object yields\n",
    "    assert isinstance(data_point, dict)\n",
    "    assert 'gate_voltage' in data_point.keys()\n",
    "    \n",
    "    # print the data\n",
    "    print(f'sweeping... now at data point: {data_point}')\n",
    "\n",
    "print('done sweeping!')"
   ]
  },
  {
   "cell_type": "code",
   "execution_count": null,
   "metadata": {},
   "outputs": [],
   "source": []
  },
  {
   "cell_type": "code",
   "execution_count": null,
   "metadata": {},
   "outputs": [],
   "source": []
  },
  {
   "cell_type": "code",
   "execution_count": null,
   "metadata": {},
   "outputs": [],
   "source": []
  },
  {
   "cell_type": "code",
   "execution_count": null,
   "metadata": {},
   "outputs": [],
   "source": []
  },
  {
   "cell_type": "code",
   "execution_count": 3,
   "metadata": {},
   "outputs": [],
   "source": [
    "from qcodes import Parameter\n",
    "from qcodes.dataset.plotting import plot_by_id\n",
    "\n",
    "from pytopo.sweep import sweep, measure, do_experiment"
   ]
  },
  {
   "cell_type": "code",
   "execution_count": 5,
   "metadata": {},
   "outputs": [],
   "source": [
    "x = Parameter(\"x\", set_cmd=None, get_cmd=None)\n",
    "y = Parameter(\"y\", set_cmd=None, get_cmd=None)\n",
    "m = Parameter(\"m\", get_cmd=lambda: x.get()**2 + y.get())"
   ]
  },
  {
   "cell_type": "code",
   "execution_count": 7,
   "metadata": {},
   "outputs": [],
   "source": [
    "sweep_object = \\\n",
    "    sweep(x, [0, 1, 2])(\n",
    "        sweep(y, [0, 1, 2])(\n",
    "            measure(m), \n",
    "        )\n",
    "    )\n",
    "\n",
    "setup = [lambda: None]\n",
    "cleanup = [lambda: None]"
   ]
  },
  {
   "cell_type": "code",
   "execution_count": 10,
   "metadata": {},
   "outputs": [
    {
     "name": "stdout",
     "output_type": "stream",
     "text": [
      "Starting experimental run with id: 2\n"
     ]
    }
   ],
   "source": [
    "experiment_result = do_experiment(\n",
    "    \"sweep_demo/no_sample\",\n",
    "    sweep_object, \n",
    "    setup, \n",
    "    cleanup\n",
    ")"
   ]
  },
  {
   "cell_type": "code",
   "execution_count": 11,
   "metadata": {},
   "outputs": [
    {
     "data": {
      "image/png": "[encoded data removed]",
      "text/plain": [
       "<Figure size 432x288 with 2 Axes>"
      ]
     },
     "metadata": {},
     "output_type": "display_data"
    }
   ],
   "source": [
    "experiment_result.plot()"
   ]
  },
  {
   "cell_type": "code",
   "execution_count": 12,
   "metadata": {},
   "outputs": [
    {
     "data": {
      "text/plain": [
       "{'x': array([0, 0, 0, 1, 1, 1, 2, 2, 2]),\n",
       " 'y': array([0, 1, 2, 0, 1, 2, 0, 1, 2]),\n",
       " 'm': array([0, 1, 2, 1, 2, 3, 4, 5, 6])}"
      ]
     },
     "execution_count": 12,
     "metadata": {},
     "output_type": "execute_result"
    }
   ],
   "source": [
    "experiment_result[\"m\"]"
   ]
  },
  {
   "cell_type": "code",
   "execution_count": null,
   "metadata": {},
   "outputs": [],
   "source": []
  }
 ],
 "metadata": {
  "kernelspec": {
   "display_name": "Python [conda env:qcodes]",
   "language": "python",
   "name": "conda-env-qcodes-py"
  },
  "language_info": {
   "codemirror_mode": {
    "name": "ipython",
    "version": 3
   },
   "file_extension": ".py",
   "mimetype": "text/x-python",
   "name": "python",
   "nbconvert_exporter": "python",
   "pygments_lexer": "ipython3",
   "version": "3.6.6"
  },
  "toc": {
   "base_numbering": 1,
   "nav_menu": {},
   "number_sections": true,
   "sideBar": true,
   "skip_h1_title": false,
   "title_cell": "Table of Contents",
   "title_sidebar": "Contents",
   "toc_cell": false,
   "toc_position": {
    "height": "calc(100% - 180px)",
    "left": "10px",
    "top": "150px",
    "width": "282.733px"
   },
   "toc_section_display": true,
   "toc_window_display": true
  },
  "varInspector": {
   "cols": {
    "lenName": 16,
    "lenType": 16,
    "lenVar": 40
   },
   "kernels_config": {
    "python": {
     "delete_cmd_postfix": "",
     "delete_cmd_prefix": "del ",
     "library": "var_list.py",
     "varRefreshCmd": "print(var_dic_list())"
    },
    "r": {
     "delete_cmd_postfix": ") ",
     "delete_cmd_prefix": "rm(",
     "library": "var_list.r",
     "varRefreshCmd": "cat(var_dic_list()) "
    }
   },
   "types_to_exclude": [
    "module",
    "function",
    "builtin_function_or_method",
    "instance",
    "_Feature"
   ],
   "window_display": false
  }
 },
 "nbformat": 4,
 "nbformat_minor": 2
}
